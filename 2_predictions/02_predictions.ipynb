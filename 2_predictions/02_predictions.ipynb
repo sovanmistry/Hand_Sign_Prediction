{
 "cells": [
  {
   "cell_type": "markdown",
   "id": "eafb2d65",
   "metadata": {},
   "source": [
    "## Predictions - Image and Video"
   ]
  },
  {
   "cell_type": "code",
   "execution_count": 1,
   "id": "97d54297",
   "metadata": {},
   "outputs": [],
   "source": [
    "import cv2\n",
    "from Yolo_Hand_Sign_Detection import YOLO_pred"
   ]
  },
  {
   "cell_type": "code",
   "execution_count": 2,
   "id": "02ae72e0",
   "metadata": {},
   "outputs": [],
   "source": [
    "yolo = YOLO_pred('./Model3/weights.best.onnx', 'data.yaml')"
   ]
  },
  {
   "cell_type": "markdown",
   "id": "74c2fb51",
   "metadata": {},
   "source": [
    "## Image Detection"
   ]
  },
  {
   "cell_type": "code",
   "execution_count": 5,
   "id": "bc232ac5",
   "metadata": {},
   "outputs": [],
   "source": [
    "img = cv2.imread('./Hand Sign Test.jpg')\n",
    "\n",
    "\n",
    "cv2.imshow('img',img)\n",
    "cv2.waitKey(0)\n",
    "cv2.destroyAllWindows()"
   ]
  },
  {
   "cell_type": "code",
   "execution_count": 6,
   "id": "671040ae",
   "metadata": {},
   "outputs": [],
   "source": [
    "img_pred = yolo.predictions(img)"
   ]
  },
  {
   "cell_type": "code",
   "execution_count": 7,
   "id": "87ecacd7",
   "metadata": {},
   "outputs": [],
   "source": [
    "cv2.imshow('Predicted Image',img_pred)\n",
    "cv2.waitKey(0)\n",
    "cv2.destroyAllWindows()"
   ]
  },
  {
   "cell_type": "markdown",
   "id": "fc8f90b2",
   "metadata": {},
   "source": [
    "## Real Time Object Detection"
   ]
  },
  {
   "cell_type": "code",
   "execution_count": 9,
   "id": "35590366",
   "metadata": {},
   "outputs": [],
   "source": [
    "cap = cv2.VideoCapture(0)\n",
    "\n",
    "while True:\n",
    "    ret, frame = cap.read()\n",
    "    if ret == False:\n",
    "        print(\"Unable to Read Video\")\n",
    "        break\n",
    "        \n",
    "    pred_image = yolo.predictions(frame)\n",
    "    \n",
    "    cv2.imshow('YOLO', pred_image)\n",
    "    if cv2.waitKey(5) == 27:\n",
    "        break\n",
    "\n",
    "cv2.destroyAllWindows() "
   ]
  },
  {
   "cell_type": "code",
   "execution_count": null,
   "id": "8c4056ad",
   "metadata": {},
   "outputs": [],
   "source": []
  }
 ],
 "metadata": {
  "kernelspec": {
   "display_name": "Python 3 (ipykernel)",
   "language": "python",
   "name": "python3"
  },
  "language_info": {
   "codemirror_mode": {
    "name": "ipython",
    "version": 3
   },
   "file_extension": ".py",
   "mimetype": "text/x-python",
   "name": "python",
   "nbconvert_exporter": "python",
   "pygments_lexer": "ipython3",
   "version": "3.9.13"
  }
 },
 "nbformat": 4,
 "nbformat_minor": 5
}
