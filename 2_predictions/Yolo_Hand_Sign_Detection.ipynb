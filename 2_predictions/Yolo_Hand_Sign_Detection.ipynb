{
 "cells": [
  {
   "cell_type": "markdown",
   "id": "d419480f",
   "metadata": {},
   "source": [
    "# YOLO HAND SIGN PREDICTION"
   ]
  },
  {
   "cell_type": "markdown",
   "id": "06ffb4f6",
   "metadata": {},
   "source": [
    "## Install Necessary Packages "
   ]
  },
  {
   "cell_type": "code",
   "execution_count": 1,
   "id": "7db35891",
   "metadata": {},
   "outputs": [
    {
     "name": "stdout",
     "output_type": "stream",
     "text": [
      "Requirement already satisfied: opencv-python==4.6.0.66 in c:\\users\\06533v744\\anaconda3\\lib\\site-packages (4.6.0.66)\n",
      "Requirement already satisfied: numpy>=1.17.3 in c:\\users\\06533v744\\anaconda3\\lib\\site-packages (from opencv-python==4.6.0.66) (1.21.5)\n",
      "Note: you may need to restart the kernel to use updated packages.\n"
     ]
    }
   ],
   "source": [
    "pip install opencv-python==4.6.0.66"
   ]
  },
  {
   "cell_type": "code",
   "execution_count": 2,
   "id": "3d855eb6",
   "metadata": {},
   "outputs": [
    {
     "name": "stdout",
     "output_type": "stream",
     "text": [
      "Requirement already satisfied: PyYAML in c:\\users\\06533v744\\anaconda3\\lib\\site-packages (6.0)\n"
     ]
    }
   ],
   "source": [
    "!pip install PyYAML"
   ]
  },
  {
   "cell_type": "markdown",
   "id": "f3847466",
   "metadata": {},
   "source": [
    "## Import Necessary Libraries"
   ]
  },
  {
   "cell_type": "code",
   "execution_count": 3,
   "id": "a95ee029",
   "metadata": {},
   "outputs": [],
   "source": [
    "import cv2\n",
    "import numpy as np\n",
    "import os\n",
    "import yaml\n",
    "from yaml.loader import SafeLoader"
   ]
  },
  {
   "cell_type": "markdown",
   "id": "70ecffc1",
   "metadata": {},
   "source": [
    "## STEP 1 : LOAD YAML FILE"
   ]
  },
  {
   "cell_type": "code",
   "execution_count": 4,
   "id": "b1417f1b",
   "metadata": {},
   "outputs": [
    {
     "name": "stdout",
     "output_type": "stream",
     "text": [
      "['Hello', 'IloveYou', 'No', 'Please', 'Thanks', 'Yes']\n"
     ]
    }
   ],
   "source": [
    "with open('data.yaml', mode = 'r') as f:\n",
    "    data_yaml = yaml.load(f, Loader = SafeLoader)\n",
    "    \n",
    "labels = data_yaml['names']\n",
    "print(labels)"
   ]
  },
  {
   "cell_type": "markdown",
   "id": "305eed35",
   "metadata": {},
   "source": [
    "## STEP2 : LOAD YOLO MODEL with OPENCV"
   ]
  },
  {
   "cell_type": "code",
   "execution_count": 5,
   "id": "865e1aef",
   "metadata": {},
   "outputs": [],
   "source": [
    "yolo = cv2.dnn.readNetFromONNX('./Model3/weights/best.onnx')\n",
    "yolo.setPreferableBackend(cv2.dnn.DNN_BACKEND_OPENCV)\n",
    "yolo.setPreferableTarget(cv2.dnn.DNN_TARGET_CPU)"
   ]
  },
  {
   "cell_type": "markdown",
   "id": "377d60f4",
   "metadata": {},
   "source": [
    "## STEP 3: Load the image"
   ]
  },
  {
   "cell_type": "code",
   "execution_count": 6,
   "id": "586527bf",
   "metadata": {},
   "outputs": [],
   "source": [
    "img = cv2.imread('./Hand Sign Test.jpg')\n",
    "image = img.copy()"
   ]
  },
  {
   "cell_type": "code",
   "execution_count": 7,
   "id": "9908459e",
   "metadata": {},
   "outputs": [
    {
     "data": {
      "text/plain": [
       "\"\\ncv2.imshow('image',image)\\ncv2.waitKey(0)\\ncv2.destroyAllWindows()\\n\""
      ]
     },
     "execution_count": 7,
     "metadata": {},
     "output_type": "execute_result"
    }
   ],
   "source": [
    "# To View the image\n",
    "\n",
    "'''\n",
    "cv2.imshow('image',image)\n",
    "cv2.waitKey(0)\n",
    "cv2.destroyAllWindows()\n",
    "'''"
   ]
  },
  {
   "cell_type": "markdown",
   "id": "904f27d5",
   "metadata": {},
   "source": [
    "## STEP 4 : Retune the Image"
   ]
  },
  {
   "cell_type": "code",
   "execution_count": 8,
   "id": "6b4eb74f",
   "metadata": {},
   "outputs": [
    {
     "data": {
      "text/plain": [
       "(351, 441, 3)"
      ]
     },
     "execution_count": 8,
     "metadata": {},
     "output_type": "execute_result"
    }
   ],
   "source": [
    "# Check Height Width and Depth of image\n",
    "\n",
    "row, col, d = image.shape\n",
    "row, col, d"
   ]
  },
  {
   "cell_type": "markdown",
   "id": "8d79590b",
   "metadata": {},
   "source": [
    "### TASK : Covert our image into Square Image"
   ]
  },
  {
   "cell_type": "code",
   "execution_count": 9,
   "id": "0749f1b3",
   "metadata": {},
   "outputs": [],
   "source": [
    "# 1. decide the larger between row, col\n",
    "max_rc = max(row, col)\n",
    "\n",
    "# 2. Black Shell Matrix\n",
    "input_image = np.zeros((max_rc, max_rc, 3), dtype = np.uint8)"
   ]
  },
  {
   "cell_type": "code",
   "execution_count": 10,
   "id": "149b9ec1",
   "metadata": {},
   "outputs": [],
   "source": [
    "input_image [0:row, 0:col] = image"
   ]
  },
  {
   "cell_type": "code",
   "execution_count": 11,
   "id": "d1375ba6",
   "metadata": {},
   "outputs": [],
   "source": [
    "\n",
    "cv2.imshow('input_image',input_image)\n",
    "cv2.waitKey(0)\n",
    "cv2.destroyAllWindows()\n"
   ]
  },
  {
   "cell_type": "code",
   "execution_count": 12,
   "id": "de3e3f16",
   "metadata": {},
   "outputs": [],
   "source": [
    "\n",
    "INPUT_WH_YOLO = 640\n",
    "blob = cv2.dnn.blobFromImage(input_image , 1/255, (INPUT_WH_YOLO, INPUT_WH_YOLO), swapRB=True, crop= False)\n",
    "yolo.setInput(blob)\n",
    "\n",
    "# Prediction from YOLO\n",
    "preds = yolo.forward() "
   ]
  },
  {
   "cell_type": "code",
   "execution_count": 13,
   "id": "341f74e7",
   "metadata": {},
   "outputs": [
    {
     "name": "stdout",
     "output_type": "stream",
     "text": [
      "[[[4.2777500e+00 6.1805229e+00 2.3314631e+01 ... 1.0987000e-01\n",
      "   7.7123858e-02 1.8501990e-01]\n",
      "  [1.3012996e+01 6.2164574e+00 2.6709650e+01 ... 1.2223515e-01\n",
      "   9.9219620e-02 1.2808347e-01]\n",
      "  [2.0362461e+01 4.5874434e+00 1.4012946e+01 ... 6.3468076e-02\n",
      "   7.8280710e-02 8.7253481e-02]\n",
      "  ...\n",
      "  [5.5472833e+02 6.1737140e+02 2.9396722e+02 ... 1.1254704e-01\n",
      "   1.3156779e-01 1.1397129e-01]\n",
      "  [5.8562805e+02 6.1966803e+02 2.3207990e+02 ... 9.8370858e-02\n",
      "   1.3282637e-01 1.1745501e-01]\n",
      "  [6.1659662e+02 6.1853528e+02 3.0048816e+02 ... 7.3034920e-02\n",
      "   1.3365467e-01 1.0952050e-01]]]\n"
     ]
    }
   ],
   "source": [
    "print(preds)"
   ]
  },
  {
   "cell_type": "code",
   "execution_count": 14,
   "id": "dd484c7a",
   "metadata": {},
   "outputs": [
    {
     "data": {
      "text/plain": [
       "'\\nNo of Bounding Boxes Detected by Model = 25200\\n\\nfor each and every Bounding Box those info are available in 25 coloumns\\n\\n'"
      ]
     },
     "execution_count": 14,
     "metadata": {},
     "output_type": "execute_result"
    }
   ],
   "source": [
    "# Conclusion : \n",
    "\n",
    "'''\n",
    "No of Bounding Boxes Detected by Model = 25200\n",
    "\n",
    "for each and every Bounding Box those info are available in 25 coloumns\n",
    "\n",
    "'''"
   ]
  },
  {
   "cell_type": "markdown",
   "id": "45b0c459",
   "metadata": {},
   "source": [
    "<img src = 'Supporting Image\\Yolo Structure.png'>"
   ]
  },
  {
   "cell_type": "markdown",
   "id": "a707d364",
   "metadata": {},
   "source": [
    "## STEP 5:  NON MAX SUPPRESSION "
   ]
  },
  {
   "cell_type": "markdown",
   "id": "98301bbb",
   "metadata": {},
   "source": [
    "### Filter Detection based on Confidence 0.4 and Probability Score 0.25"
   ]
  },
  {
   "cell_type": "code",
   "execution_count": 15,
   "id": "9216d797",
   "metadata": {},
   "outputs": [],
   "source": [
    "detections = preds[0]\n",
    "\n",
    "boxes = []\n",
    "confidences = []\n",
    "classes = []"
   ]
  },
  {
   "cell_type": "code",
   "execution_count": 16,
   "id": "08e3ae32",
   "metadata": {},
   "outputs": [
    {
     "data": {
      "text/plain": [
       "(441, 441)"
      ]
     },
     "execution_count": 16,
     "metadata": {},
     "output_type": "execute_result"
    }
   ],
   "source": [
    "# Caclculate Width and Height of the Image\n",
    "\n",
    "image_w, image_h = input_image.shape[:2]\n",
    "image_w, image_h"
   ]
  },
  {
   "cell_type": "code",
   "execution_count": 17,
   "id": "a4eb7560",
   "metadata": {},
   "outputs": [
    {
     "data": {
      "text/plain": [
       "(0.6890625, 0.6890625)"
      ]
     },
     "execution_count": 17,
     "metadata": {},
     "output_type": "execute_result"
    }
   ],
   "source": [
    "# Calculate X_Factor & Y_Factor\n",
    "\n",
    "x_factor = image_w/INPUT_WH_YOLO\n",
    "y_factor = image_h/INPUT_WH_YOLO\n",
    "\n",
    "x_factor, y_factor"
   ]
  },
  {
   "cell_type": "code",
   "execution_count": 18,
   "id": "fb945e20",
   "metadata": {},
   "outputs": [],
   "source": [
    "# Filter Detection based on Confidence 0.4 and Probability Score 0.25\n",
    "\n",
    "for i in range(len(detections)):\n",
    "    row = detections[i]\n",
    "    \n",
    "    # Confidence of detecting an Object\n",
    "    confidence = row[4] \n",
    "    \n",
    "    if confidence > 0.4: \n",
    "        \n",
    "        # Maximum Probability from 20 Objects\n",
    "        class_score = row[5:].max()\n",
    "        \n",
    "        # Which Class gives Max Probablitiy\n",
    "        class_id = row[5:].argmax()\n",
    "        \n",
    "        if class_score > 0.25:\n",
    "            cx, cy, w, h = row[0:4]\n",
    "            \n",
    "            # CONSTRUCT BOUNDING BOXES from the values\n",
    "            # Left, TOP, WIDTH & HEIGHT\n",
    "            \n",
    "            left   = int((cx - 0.5*w)* x_factor)\n",
    "            top    = int((cy - 0.5*h)* y_factor)\n",
    "            width  = int(w*x_factor)\n",
    "            height = int(h*y_factor)\n",
    "            \n",
    "            box = np.array([left, top, width, height])\n",
    "            \n",
    "            # Append Values into List\n",
    "            confidences.append (confidence)\n",
    "            boxes.append (box)\n",
    "            classes.append (class_id)\n",
    "       "
   ]
  },
  {
   "cell_type": "markdown",
   "id": "d892ad67",
   "metadata": {},
   "source": [
    "### Clean Duplicate Values & Store it in Numpy List "
   ]
  },
  {
   "cell_type": "code",
   "execution_count": 19,
   "id": "29f4ce3e",
   "metadata": {},
   "outputs": [],
   "source": [
    "boxes_np = np.array(boxes).tolist()\n",
    "confidences_np = np.array(confidences).tolist()"
   ]
  },
  {
   "cell_type": "markdown",
   "id": "df138c44",
   "metadata": {},
   "source": [
    "### Non Max Suppression Operation"
   ]
  },
  {
   "cell_type": "code",
   "execution_count": 20,
   "id": "c69040b1",
   "metadata": {},
   "outputs": [],
   "source": [
    "index = cv2.dnn.NMSBoxes(boxes_np, confidences_np, 0.25, 0.45).flatten()"
   ]
  },
  {
   "cell_type": "code",
   "execution_count": 21,
   "id": "1ce04fdf",
   "metadata": {},
   "outputs": [
    {
     "data": {
      "text/plain": [
       "3"
      ]
     },
     "execution_count": 21,
     "metadata": {},
     "output_type": "execute_result"
    }
   ],
   "source": [
    "len(index)"
   ]
  },
  {
   "cell_type": "markdown",
   "id": "19938b59",
   "metadata": {},
   "source": [
    "### Draw the BOUNDING BOX"
   ]
  },
  {
   "cell_type": "code",
   "execution_count": 22,
   "id": "9bcb68db",
   "metadata": {},
   "outputs": [],
   "source": [
    "for ind in index : \n",
    "    \n",
    "    # Extract Bounding Box\n",
    "    x, y, w, h = boxes_np[ind]\n",
    "    bb_conf = confidences_np[ind] * 100\n",
    "    classes_id = classes[ind]\n",
    "    class_name = labels[classes_id]\n",
    "    \n",
    "    text = f'{class_name} : {bb_conf}%'\n",
    "    \n",
    "    cv2.rectangle(image, (x,y), (x+w, y+h), (0,255, 0), 2)\n",
    "    cv2.rectangle(image, (x,y-30), (x+w, y), (255,255, 255), -1)\n",
    "    \n",
    "    cv2.putText(image, text, (x,y-10), cv2.FONT_HERSHEY_PLAIN, 0.7, (0,0,0),1)"
   ]
  },
  {
   "cell_type": "code",
   "execution_count": 23,
   "id": "bd5449d9",
   "metadata": {},
   "outputs": [],
   "source": [
    "cv2.imshow('Original',img)\n",
    "cv2.imshow('Predicted',image)\n",
    "cv2.waitKey(0)\n",
    "cv2.destroyAllWindows()"
   ]
  },
  {
   "cell_type": "markdown",
   "id": "bab30e1b",
   "metadata": {},
   "source": [
    "## The END"
   ]
  }
 ],
 "metadata": {
  "kernelspec": {
   "display_name": "Python 3 (ipykernel)",
   "language": "python",
   "name": "python3"
  },
  "language_info": {
   "codemirror_mode": {
    "name": "ipython",
    "version": 3
   },
   "file_extension": ".py",
   "mimetype": "text/x-python",
   "name": "python",
   "nbconvert_exporter": "python",
   "pygments_lexer": "ipython3",
   "version": "3.9.18"
  }
 },
 "nbformat": 4,
 "nbformat_minor": 5
}
